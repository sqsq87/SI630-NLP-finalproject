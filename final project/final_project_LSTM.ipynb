{
 "cells": [
  {
   "cell_type": "code",
   "execution_count": 1,
   "metadata": {},
   "outputs": [],
   "source": [
    "from keras.preprocessing.text import Tokenizer\n",
    "from keras.preprocessing.sequence import pad_sequences\n",
    "from keras.utils import to_categorical\n",
    "from keras.layers import Dense, Input, Flatten, Dropout\n",
    "from keras.layers import LSTM, Embedding,GRU\n",
    "from keras.models import Sequential"
   ]
  },
  {
   "cell_type": "code",
   "execution_count": 10,
   "metadata": {},
   "outputs": [],
   "source": [
    "import pandas as pd\n",
    "import numpy as np\n",
    "pd_ori=pd.read_csv('all.csv')\n",
    "from sklearn.model_selection import StratifiedShuffleSplit\n",
    "sss= StratifiedShuffleSplit(n_splits=1, test_size=0.999, random_state=42)\n",
    "for train_index, test_index in sss.split(pd_ori, pd_ori['label']):\n",
    "    set_1=pd_ori.iloc[train_index]\n",
    "    set_2=pd_ori.iloc[test_index]\n",
    "set_2['label'].value_counts()/len(set_2)\n",
    "\n",
    "\n",
    "set_2.reset_index(inplace=True)\n",
    "sss= StratifiedShuffleSplit(n_splits=1, test_size=0.2, random_state=42)\n",
    "for train_index, test_index in sss.split(set_2, set_2['label']):\n",
    "    train_df=set_2.iloc[train_index]\n",
    "    devtest_df=set_2.iloc[test_index]\n",
    "train_index=train_df.index.values.tolist()\n",
    "\n",
    "\n",
    "sss= StratifiedShuffleSplit(n_splits=1, test_size=0.5, random_state=42)\n",
    "for train_index, test_index in sss.split(devtest_df, devtest_df['label']):\n",
    "    dev_df=devtest_df.iloc[train_index]\n",
    "    test_df=devtest_df.iloc[test_index]\n",
    "test_index=test_df.index.values.tolist()\n",
    "dev_index=dev_df.index.values.tolist()\n",
    "\n"
   ]
  },
  {
   "cell_type": "code",
   "execution_count": 11,
   "metadata": {},
   "outputs": [
    {
     "data": {
      "text/plain": [
       "607990"
      ]
     },
     "execution_count": 11,
     "metadata": {},
     "output_type": "execute_result"
    }
   ],
   "source": [
    "len(set_2)"
   ]
  },
  {
   "cell_type": "code",
   "execution_count": 12,
   "metadata": {},
   "outputs": [
    {
     "name": "stdout",
     "output_type": "stream",
     "text": [
      "Found 204488 unique tokens.\n",
      "Shape of data tensor: (607990, 500)\n",
      "Shape of label tensor: (607990, 2)\n"
     ]
    }
   ],
   "source": [
    "all_texts=set_2['review'].tolist()\n",
    "all_labels=set_2['label'].tolist()\n",
    "MAX_SEQUENCE_LENGTH = 500    #the max seqeunce length\n",
    "EMBEDDING_DIM = 200    #the size of embedding\n",
    "tokenizer = Tokenizer()\n",
    "tokenizer.fit_on_texts(all_texts)\n",
    "sequences = tokenizer.texts_to_sequences(all_texts)\n",
    "word_index = tokenizer.word_index\n",
    "print('There are unique tokens.' % len(word_index))\n",
    "data = pad_sequences(sequences, maxlen=MAX_SEQUENCE_LENGTH)\n",
    "labels = to_categorical(np.asarray(all_labels))\n",
    "print('Shape of data tensor:', data.shape)\n",
    "print('Shape of label tensor:', labels.shape)\n",
    "X_train=data[train_index]\n",
    "y_train=labels[train_index]\n",
    "X_test=data[test_index]\n",
    "y_test=labels[test_index]\n",
    "X_dev=data[dev_index]\n",
    "y_dev=labels[dev_index]\n"
   ]
  },
  {
   "cell_type": "code",
   "execution_count": 13,
   "metadata": {},
   "outputs": [
    {
     "data": {
      "text/plain": [
       "60799"
      ]
     },
     "execution_count": 13,
     "metadata": {},
     "output_type": "execute_result"
    }
   ],
   "source": [
    "len(X_dev)"
   ]
  },
  {
   "cell_type": "code",
   "execution_count": 14,
   "metadata": {},
   "outputs": [
    {
     "name": "stdout",
     "output_type": "stream",
     "text": [
      "Model: \"sequential\"\n",
      "_________________________________________________________________\n",
      "Layer (type)                 Output Shape              Param #   \n",
      "=================================================================\n",
      "embedding (Embedding)        (None, 500, 200)          40897800  \n",
      "_________________________________________________________________\n",
      "lstm (LSTM)                  (None, 200)               320800    \n",
      "_________________________________________________________________\n",
      "dropout (Dropout)            (None, 200)               0         \n",
      "_________________________________________________________________\n",
      "dense (Dense)                (None, 64)                12864     \n",
      "_________________________________________________________________\n",
      "dense_1 (Dense)              (None, 2)                 130       \n",
      "=================================================================\n",
      "Total params: 41,231,594\n",
      "Trainable params: 41,231,594\n",
      "Non-trainable params: 0\n",
      "_________________________________________________________________\n"
     ]
    }
   ],
   "source": [
    "model = Sequential()\n",
    "model.add(Embedding(len(word_index) + 1, EMBEDDING_DIM, input_length=MAX_SEQUENCE_LENGTH))\n",
    "model.add(LSTM(200, dropout=0.2, recurrent_dropout=0.2))\n",
    "model.add(Dropout(0.2))\n",
    "model.add(Dense(64, activation='relu'))\n",
    "model.add(Dense(labels.shape[1], activation='softmax'))\n",
    "model.summary()"
   ]
  },
  {
   "cell_type": "code",
   "execution_count": 16,
   "metadata": {},
   "outputs": [
    {
     "name": "stdout",
     "output_type": "stream",
     "text": [
      "[]\n",
      "Epoch 1/2\n",
      "475/475 [==============================] - 2789s 6s/step - loss: 0.3956 - acc: 0.8636 - val_loss: 0.3734 - val_acc: 0.8678\n",
      "Epoch 2/2\n",
      "475/475 [==============================] - 2791s 6s/step - loss: 0.3646 - acc: 0.8650 - val_loss: 0.3639 - val_acc: 0.8679\n"
     ]
    }
   ],
   "source": [
    "model.compile(loss='binary_crossentropy',\n",
    "                  optimizer='rmsprop',\n",
    "                  metrics=['acc'])\n",
    "print(model.metrics_names)\n",
    "model.fit(X_train, y_train, validation_data=(X_dev, y_dev), epochs=2, batch_size=128)\n",
    "model.save('lstm.h5')"
   ]
  },
  {
   "cell_type": "code",
   "execution_count": 19,
   "metadata": {},
   "outputs": [
    {
     "name": "stdout",
     "output_type": "stream",
     "text": [
      "1900/1900 [==============================] - 507s 267ms/step - loss: 0.3624 - acc: 0.8680\n"
     ]
    },
    {
     "data": {
      "text/plain": [
       "[0.36241376399993896, 0.8680077195167542]"
      ]
     },
     "execution_count": 19,
     "metadata": {},
     "output_type": "execute_result"
    }
   ],
   "source": [
    "model.evaluate(X_test, y_test)"
   ]
  },
  {
   "cell_type": "code",
   "execution_count": 20,
   "metadata": {},
   "outputs": [],
   "source": [
    "y_pred=model.predict(X_test)"
   ]
  },
  {
   "cell_type": "code",
   "execution_count": 23,
   "metadata": {},
   "outputs": [
    {
     "data": {
      "text/plain": [
       "array([[0.9973808 , 0.00261924],\n",
       "       [0.99802303, 0.001977  ],\n",
       "       [0.9666526 , 0.03334745],\n",
       "       ...,\n",
       "       [0.9184121 , 0.08158792],\n",
       "       [0.99322444, 0.00677551],\n",
       "       [0.8207592 , 0.17924082]], dtype=float32)"
      ]
     },
     "execution_count": 23,
     "metadata": {},
     "output_type": "execute_result"
    }
   ],
   "source": [
    "y_pred"
   ]
  },
  {
   "cell_type": "code",
   "execution_count": 24,
   "metadata": {},
   "outputs": [],
   "source": [
    "from sklearn.metrics import roc_auc_score"
   ]
  },
  {
   "cell_type": "code",
   "execution_count": 26,
   "metadata": {},
   "outputs": [
    {
     "name": "stdout",
     "output_type": "stream",
     "text": [
      "0.7100465386691508\n"
     ]
    }
   ],
   "source": [
    "print(roc_auc_score(y_test, y_pred))"
   ]
  },
  {
   "cell_type": "code",
   "execution_count": null,
   "metadata": {},
   "outputs": [],
   "source": []
  }
 ],
 "metadata": {
  "kernelspec": {
   "display_name": "Python 3",
   "language": "python",
   "name": "python3"
  },
  "language_info": {
   "codemirror_mode": {
    "name": "ipython",
    "version": 3
   },
   "file_extension": ".py",
   "mimetype": "text/x-python",
   "name": "python",
   "nbconvert_exporter": "python",
   "pygments_lexer": "ipython3",
   "version": "3.8.5"
  }
 },
 "nbformat": 4,
 "nbformat_minor": 4
}
